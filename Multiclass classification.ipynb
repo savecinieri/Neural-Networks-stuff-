{
 "cells": [
  {
   "cell_type": "code",
   "execution_count": 1,
   "metadata": {},
   "outputs": [
    {
     "name": "stderr",
     "output_type": "stream",
     "text": [
      "C:\\Users\\Saverio\\Anaconda3\\envs\\keras-gpu\\lib\\site-packages\\tensorflow\\python\\framework\\dtypes.py:526: FutureWarning: Passing (type, 1) or '1type' as a synonym of type is deprecated; in a future version of numpy, it will be understood as (type, (1,)) / '(1,)type'.\n",
      "  _np_qint8 = np.dtype([(\"qint8\", np.int8, 1)])\n",
      "C:\\Users\\Saverio\\Anaconda3\\envs\\keras-gpu\\lib\\site-packages\\tensorflow\\python\\framework\\dtypes.py:527: FutureWarning: Passing (type, 1) or '1type' as a synonym of type is deprecated; in a future version of numpy, it will be understood as (type, (1,)) / '(1,)type'.\n",
      "  _np_quint8 = np.dtype([(\"quint8\", np.uint8, 1)])\n",
      "C:\\Users\\Saverio\\Anaconda3\\envs\\keras-gpu\\lib\\site-packages\\tensorflow\\python\\framework\\dtypes.py:528: FutureWarning: Passing (type, 1) or '1type' as a synonym of type is deprecated; in a future version of numpy, it will be understood as (type, (1,)) / '(1,)type'.\n",
      "  _np_qint16 = np.dtype([(\"qint16\", np.int16, 1)])\n",
      "C:\\Users\\Saverio\\Anaconda3\\envs\\keras-gpu\\lib\\site-packages\\tensorflow\\python\\framework\\dtypes.py:529: FutureWarning: Passing (type, 1) or '1type' as a synonym of type is deprecated; in a future version of numpy, it will be understood as (type, (1,)) / '(1,)type'.\n",
      "  _np_quint16 = np.dtype([(\"quint16\", np.uint16, 1)])\n",
      "C:\\Users\\Saverio\\Anaconda3\\envs\\keras-gpu\\lib\\site-packages\\tensorflow\\python\\framework\\dtypes.py:530: FutureWarning: Passing (type, 1) or '1type' as a synonym of type is deprecated; in a future version of numpy, it will be understood as (type, (1,)) / '(1,)type'.\n",
      "  _np_qint32 = np.dtype([(\"qint32\", np.int32, 1)])\n",
      "C:\\Users\\Saverio\\Anaconda3\\envs\\keras-gpu\\lib\\site-packages\\tensorflow\\python\\framework\\dtypes.py:535: FutureWarning: Passing (type, 1) or '1type' as a synonym of type is deprecated; in a future version of numpy, it will be understood as (type, (1,)) / '(1,)type'.\n",
      "  np_resource = np.dtype([(\"resource\", np.ubyte, 1)])\n",
      "Using TensorFlow backend.\n"
     ]
    }
   ],
   "source": [
    "import tensorflow as tf\n",
    "import numpy as np\n",
    "\n",
    "from tensorflow import keras\n",
    "from keras.datasets import mnist, imdb, reuters\n",
    "\n",
    "\n",
    "#------------------- def methods -----------------------#\n",
    "\n",
    "# from [[1, 3, 44], [2, 313, 87, 100], [34, 22]] -> matrix [[0, 0, 1],\n",
    "#                                                          [1, 0, 0, 0], ... ]\n",
    "def transformData(data, dimHorizontalAxes):\n",
    "    result = np.zeros((len(data), dimHorizontalAxes))\n",
    "    \n",
    "    currentReview = 0\n",
    "    for review in data:\n",
    "        for word in review:\n",
    "            if result[currentReview, word] == 0:\n",
    "                # a word could be used multiple times in a single review\n",
    "                result[currentReview, word] = 1\n",
    "        currentReview += 1\n",
    "        \n",
    "    # print(result)\n",
    "    return result\n",
    "\n",
    "def transformLabels(data, dimHorizontalAxes):\n",
    "    result = np.zeros((len(data), dimHorizontalAxes))\n",
    "    \n",
    "    currentSample = 0\n",
    "    for lbl in data:\n",
    "        result[currentSample, lbl] = 1\n",
    "        currentSample += 1\n",
    " \n",
    "    # print(result)\n",
    "    return result\n",
    "\n",
    "def check_method(tmpTensor):\n",
    "    counter = 0\n",
    "    for i in range(len(tmpTensor[0])):\n",
    "        if tmpTensor[0, i] != tmpTensor[1, i]:\n",
    "            counter += 1\n",
    "\n",
    "    return counter\n",
    "#-------------------------------------------------------#"
   ]
  },
  {
   "cell_type": "code",
   "execution_count": 2,
   "metadata": {},
   "outputs": [
    {
     "name": "stdout",
     "output_type": "stream",
     "text": [
      "Data types\n",
      "Train data and labels\n",
      "<class 'numpy.ndarray'>\n",
      "<class 'numpy.ndarray'>\n",
      "\n",
      "Test data and labels\n",
      "<class 'numpy.ndarray'>\n",
      "<class 'numpy.ndarray'>\n",
      "\n",
      "Rank and dimensionality for each axis\n",
      "- train data:\n",
      "1\n",
      "(8982,)\n",
      "- train labels:\n",
      "1\n",
      "(8982,)\n",
      "\n",
      "- test data\n",
      "1\n",
      "(2246,)\n",
      "- test labels:\n",
      "1\n",
      "(2246,)\n"
     ]
    }
   ],
   "source": [
    "# load data and analyze the type, rank and dimensionality for each rank \n",
    "(train_data, train_labels), (test_data, test_labels) = reuters.load_data(num_words=10000) # at most 10000 words\n",
    "\n",
    "print('Data types')\n",
    "print('Train data and labels')\n",
    "print(type(train_data))\n",
    "print(type(train_labels))\n",
    "print('\\nTest data and labels')\n",
    "print(type(test_data))\n",
    "print(type(test_labels))\n",
    "\n",
    "print('\\nRank and dimensionality for each axis')\n",
    "print('- train data:')\n",
    "print(train_data.ndim)\n",
    "print(train_data.shape)\n",
    "\n",
    "print('- train labels:')\n",
    "print(train_labels.ndim)\n",
    "print(train_labels.shape)\n",
    "\n",
    "\n",
    "print('\\n- test data')\n",
    "print(test_data.ndim)\n",
    "print(test_data.shape)\n",
    "\n",
    "print('- test labels:')\n",
    "print(test_labels.ndim)\n",
    "print(test_labels.shape)"
   ]
  },
  {
   "cell_type": "code",
   "execution_count": 3,
   "metadata": {},
   "outputs": [
    {
     "name": "stdout",
     "output_type": "stream",
     "text": [
      "Train data content\n",
      "[1, 2, 2, 8, 43, 10, 447, 5, 25, 207, 270, 5, 3095, 111, 16, 369, 186, 90, 67, 7, 89, 5, 19, 102, 6, 19, 124, 15, 90, 67, 84, 22, 482, 26, 7, 48, 4, 49, 8, 864, 39, 209, 154, 6, 151, 6, 83, 11, 15, 22, 155, 11, 15, 7, 48, 9, 4579, 1005, 504, 6, 258, 6, 272, 11, 15, 22, 134, 44, 11, 15, 16, 8, 197, 1245, 90, 67, 52, 29, 209, 30, 32, 132, 6, 109, 15, 17, 12]  - label:  3\n",
      "\n",
      "Test data content\n",
      "[1, 4, 1378, 2025, 9, 697, 4622, 111, 8, 25, 109, 29, 3650, 11, 150, 244, 364, 33, 30, 30, 1398, 333, 6, 2, 159, 9, 1084, 363, 13, 2, 71, 9, 2, 71, 117, 4, 225, 78, 206, 10, 9, 1214, 8, 4, 270, 5, 2, 7, 748, 48, 9, 2, 7, 207, 1451, 966, 1864, 793, 97, 133, 336, 7, 4, 493, 98, 273, 104, 284, 25, 39, 338, 22, 905, 220, 3465, 644, 59, 20, 6, 119, 61, 11, 15, 58, 579, 26, 10, 67, 7, 4, 738, 98, 43, 88, 333, 722, 12, 20, 6, 19, 746, 35, 15, 10, 9, 1214, 855, 129, 783, 21, 4, 2280, 244, 364, 51, 16, 299, 452, 16, 515, 4, 99, 29, 5, 4, 364, 281, 48, 10, 9, 1214, 23, 644, 47, 20, 324, 27, 56, 2, 2, 5, 192, 510, 17, 12]  - label:  3\n"
     ]
    }
   ],
   "source": [
    "print('Train data content')\n",
    "print(train_data[0], ' - label: ', train_labels[0])\n",
    "\n",
    "print('\\nTest data content')\n",
    "print(test_data[0], ' - label: ', test_labels[0])"
   ]
  },
  {
   "cell_type": "code",
   "execution_count": 4,
   "metadata": {},
   "outputs": [],
   "source": [
    "# we have to split train_data in x_train and x_val with their labels\n",
    "\n",
    "#AND\n",
    "\n",
    "# we must transform train_data in a tensor, \"1 value in each cell of the new data structure\" IS THE RULE\n",
    "# the new data structure for our problem is a tensor with rank 2\n",
    "# the features inside the matrix are the words, represented by a 0/1 for a word on the horizontal axes\n",
    "\n",
    "dimensionalityHorizontalAxes = 10000 # we have almost 10000 words\n",
    "x_train = transformData(train_data[:5982], dimensionalityHorizontalAxes)\n",
    "x_val = transformData(train_data[5982:len(train_data)], dimensionalityHorizontalAxes)\n",
    "\n",
    "x_test = transformData(test_data, dimensionalityHorizontalAxes)"
   ]
  },
  {
   "cell_type": "code",
   "execution_count": 5,
   "metadata": {},
   "outputs": [],
   "source": [
    "# in a multiclass classification problem the best format for the labels is a tensor of rank 2\n",
    "# for each sample on the vertical axes, and a vector on the horizontal axes with 0/1 for the class of that sample\n",
    "# the dimensionality for the horizontal axes is equalt to the number of class labels\n",
    "# 0 0 1 0 0 0 ... 0 0 0\n",
    "# 1 0 0 0 0 0 ... 0 0 0\n",
    "# 0 0 0 0 0 0 ... 1 0 0\n",
    "\n",
    "cardinalityClassLabels = 46\n",
    "y_train = transformLabels(train_labels[:5982], cardinalityClassLabels)\n",
    "y_val = transformLabels(train_labels[5982:len(train_labels)], cardinalityClassLabels)\n",
    "y_test = transformLabels(test_labels, cardinalityClassLabels)"
   ]
  },
  {
   "cell_type": "code",
   "execution_count": 6,
   "metadata": {},
   "outputs": [
    {
     "name": "stdout",
     "output_type": "stream",
     "text": [
      "New data types\n",
      "Train data and labels\n",
      "<class 'numpy.ndarray'>\n",
      "<class 'numpy.ndarray'>\n",
      "\n",
      "Validation data and labels\n",
      "<class 'numpy.ndarray'>\n",
      "<class 'numpy.ndarray'>\n",
      "\n",
      "Test data and labels\n",
      "<class 'numpy.ndarray'>\n",
      "<class 'numpy.ndarray'>\n",
      "\n",
      "Rank and dimensionality for each axis\n",
      "- train data:\n",
      "2\n",
      "(5982, 10000)\n",
      "- train labels:\n",
      "2\n",
      "(5982, 46)\n",
      "- validation data:\n",
      "2\n",
      "(3000, 10000)\n",
      "- validation labels:\n",
      "2\n",
      "(3000, 46)\n",
      "\n",
      "- test data\n",
      "2\n",
      "(2246, 10000)\n",
      "- test labels:\n",
      "2\n",
      "(2246, 46)\n"
     ]
    }
   ],
   "source": [
    "print('New data types')\n",
    "print('Train data and labels')\n",
    "print(type(x_train))\n",
    "print(type(y_train))\n",
    "print('\\nValidation data and labels')\n",
    "print(type(x_val))\n",
    "print(type(y_val))\n",
    "print('\\nTest data and labels')\n",
    "print(type(x_test))\n",
    "print(type(y_test))\n",
    "\n",
    "print('\\nRank and dimensionality for each axis')\n",
    "print('- train data:')\n",
    "print(x_train.ndim)\n",
    "print(x_train.shape)\n",
    "\n",
    "print('- train labels:')\n",
    "print(y_train.ndim)\n",
    "print(y_train.shape)\n",
    "\n",
    "\n",
    "\n",
    "print('- validation data:')\n",
    "print(x_val.ndim)\n",
    "print(x_val.shape)\n",
    "\n",
    "print('- validation labels:')\n",
    "print(y_val.ndim)\n",
    "print(y_val.shape)\n",
    "\n",
    "\n",
    "\n",
    "print('\\n- test data')\n",
    "print(x_test.ndim)\n",
    "print(x_test.shape)\n",
    "\n",
    "print('- test labels:')\n",
    "print(y_test.ndim)\n",
    "print(y_test.shape)"
   ]
  },
  {
   "cell_type": "code",
   "execution_count": 7,
   "metadata": {},
   "outputs": [
    {
     "name": "stdout",
     "output_type": "stream",
     "text": [
      "\n",
      "Train data content\n",
      "[0. 1. 1. ... 0. 0. 0.]  - label:  3\n",
      "\n",
      "Test data content\n",
      "[0. 1. 1. ... 0. 0. 0.]  - label:  3\n"
     ]
    }
   ],
   "source": [
    "print('\\nTrain data content')\n",
    "print(x_train[0], ' - label: ', train_labels[0])\n",
    "\n",
    "print('\\nTest data content')\n",
    "print(x_test[0], ' - label: ', test_labels[0])"
   ]
  },
  {
   "cell_type": "code",
   "execution_count": 8,
   "metadata": {},
   "outputs": [
    {
     "name": "stdout",
     "output_type": "stream",
     "text": [
      "70\n",
      "326\n",
      "104\n"
     ]
    }
   ],
   "source": [
    "# check method\n",
    "print(check_method(x_train))\n",
    "print(check_method(x_test))\n",
    "print(check_method(x_val))"
   ]
  },
  {
   "cell_type": "code",
   "execution_count": 12,
   "metadata": {},
   "outputs": [
    {
     "name": "stdout",
     "output_type": "stream",
     "text": [
      "Train on 5982 samples, validate on 3000 samples\n",
      "Epoch 1/40\n",
      "5982/5982 [==============================] - 2s 410us/step - loss: 2.9319 - accuracy: 0.5194 - val_loss: 2.0888 - val_accuracy: 0.6360\n",
      "Epoch 2/40\n",
      "5982/5982 [==============================] - 2s 397us/step - loss: 1.7335 - accuracy: 0.6665 - val_loss: 1.5398 - val_accuracy: 0.6833\n",
      "Epoch 3/40\n",
      "5982/5982 [==============================] - 2s 386us/step - loss: 1.2947 - accuracy: 0.7357 - val_loss: 1.3291 - val_accuracy: 0.7213\n",
      "Epoch 4/40\n",
      "5982/5982 [==============================] - 2s 414us/step - loss: 1.0553 - accuracy: 0.7835 - val_loss: 1.2156 - val_accuracy: 0.7410\n",
      "Epoch 5/40\n",
      "5982/5982 [==============================] - 2s 369us/step - loss: 0.8855 - accuracy: 0.8171 - val_loss: 1.1418 - val_accuracy: 0.7603\n",
      "Epoch 6/40\n",
      "5982/5982 [==============================] - 2s 386us/step - loss: 0.7529 - accuracy: 0.8412 - val_loss: 1.0824 - val_accuracy: 0.7703\n",
      "Epoch 7/40\n",
      "5982/5982 [==============================] - 2s 368us/step - loss: 0.6363 - accuracy: 0.8638 - val_loss: 1.0427 - val_accuracy: 0.7813\n",
      "Epoch 8/40\n",
      "5982/5982 [==============================] - 2s 358us/step - loss: 0.5406 - accuracy: 0.8855 - val_loss: 1.0166 - val_accuracy: 0.7837\n",
      "Epoch 9/40\n",
      "5982/5982 [==============================] - 2s 366us/step - loss: 0.4553 - accuracy: 0.9037 - val_loss: 0.9932 - val_accuracy: 0.7863\n",
      "Epoch 10/40\n",
      "5982/5982 [==============================] - 2s 365us/step - loss: 0.3864 - accuracy: 0.9203 - val_loss: 1.0019 - val_accuracy: 0.7870\n",
      "Epoch 11/40\n",
      "5982/5982 [==============================] - 2s 350us/step - loss: 0.3293 - accuracy: 0.9331 - val_loss: 0.9895 - val_accuracy: 0.7927\n",
      "Epoch 12/40\n",
      "5982/5982 [==============================] - 2s 360us/step - loss: 0.2779 - accuracy: 0.9423 - val_loss: 0.9716 - val_accuracy: 0.7927\n",
      "Epoch 13/40\n",
      "5982/5982 [==============================] - 2s 350us/step - loss: 0.2397 - accuracy: 0.9473 - val_loss: 0.9883 - val_accuracy: 0.8007\n",
      "Epoch 14/40\n",
      "5982/5982 [==============================] - 2s 376us/step - loss: 0.2058 - accuracy: 0.9550 - val_loss: 0.9959 - val_accuracy: 0.7903\n",
      "Epoch 15/40\n",
      "5982/5982 [==============================] - 2s 366us/step - loss: 0.1794 - accuracy: 0.9599 - val_loss: 1.0430 - val_accuracy: 0.7800\n",
      "Epoch 16/40\n",
      "5982/5982 [==============================] - 2s 363us/step - loss: 0.1616 - accuracy: 0.9604 - val_loss: 1.0248 - val_accuracy: 0.7960\n",
      "Epoch 17/40\n",
      "5982/5982 [==============================] - 2s 350us/step - loss: 0.1413 - accuracy: 0.9636 - val_loss: 1.0477 - val_accuracy: 0.7847\n",
      "Epoch 18/40\n",
      "5982/5982 [==============================] - 2s 353us/step - loss: 0.1312 - accuracy: 0.9662 - val_loss: 1.0687 - val_accuracy: 0.7917\n",
      "Epoch 19/40\n",
      "5982/5982 [==============================] - 2s 363us/step - loss: 0.1199 - accuracy: 0.9679 - val_loss: 1.0648 - val_accuracy: 0.7953\n",
      "Epoch 20/40\n",
      "5982/5982 [==============================] - 2s 381us/step - loss: 0.1082 - accuracy: 0.9704 - val_loss: 1.0551 - val_accuracy: 0.7980\n",
      "Epoch 21/40\n",
      "5982/5982 [==============================] - 2s 387us/step - loss: 0.1021 - accuracy: 0.9681 - val_loss: 1.1229 - val_accuracy: 0.7843\n",
      "Epoch 22/40\n",
      "5982/5982 [==============================] - 2s 381us/step - loss: 0.0975 - accuracy: 0.9689 - val_loss: 1.1557 - val_accuracy: 0.7843\n",
      "Epoch 23/40\n",
      "5982/5982 [==============================] - 2s 355us/step - loss: 0.0917 - accuracy: 0.9674 - val_loss: 1.1823 - val_accuracy: 0.7817\n",
      "Epoch 24/40\n",
      "5982/5982 [==============================] - 2s 350us/step - loss: 0.0891 - accuracy: 0.9694 - val_loss: 1.1365 - val_accuracy: 0.7943\n",
      "Epoch 25/40\n",
      "5982/5982 [==============================] - 2s 345us/step - loss: 0.0826 - accuracy: 0.9687 - val_loss: 1.1658 - val_accuracy: 0.7883\n",
      "Epoch 26/40\n",
      "5982/5982 [==============================] - 2s 332us/step - loss: 0.0814 - accuracy: 0.9694 - val_loss: 1.1954 - val_accuracy: 0.7890\n",
      "Epoch 27/40\n",
      "5982/5982 [==============================] - 2s 374us/step - loss: 0.0826 - accuracy: 0.9692 - val_loss: 1.2352 - val_accuracy: 0.7833\n",
      "Epoch 28/40\n",
      "5982/5982 [==============================] - 2s 374us/step - loss: 0.0786 - accuracy: 0.9691 - val_loss: 1.1988 - val_accuracy: 0.7920\n",
      "Epoch 29/40\n",
      "5982/5982 [==============================] - 2s 366us/step - loss: 0.0772 - accuracy: 0.9687 - val_loss: 1.2397 - val_accuracy: 0.7860\n",
      "Epoch 30/40\n",
      "5982/5982 [==============================] - 2s 342us/step - loss: 0.0717 - accuracy: 0.9709 - val_loss: 1.2337 - val_accuracy: 0.7940\n",
      "Epoch 31/40\n",
      "5982/5982 [==============================] - 2s 340us/step - loss: 0.0703 - accuracy: 0.9696 - val_loss: 1.2424 - val_accuracy: 0.7897\n",
      "Epoch 32/40\n",
      "5982/5982 [==============================] - 2s 334us/step - loss: 0.0694 - accuracy: 0.9711 - val_loss: 1.3143 - val_accuracy: 0.7847\n",
      "Epoch 33/40\n",
      "5982/5982 [==============================] - 2s 347us/step - loss: 0.0690 - accuracy: 0.9709 - val_loss: 1.2918 - val_accuracy: 0.7893\n",
      "Epoch 34/40\n",
      "5982/5982 [==============================] - 2s 350us/step - loss: 0.0702 - accuracy: 0.9709 - val_loss: 1.3094 - val_accuracy: 0.7873\n",
      "Epoch 35/40\n",
      "5982/5982 [==============================] - 2s 360us/step - loss: 0.0684 - accuracy: 0.9716 - val_loss: 1.3825 - val_accuracy: 0.7777\n",
      "Epoch 36/40\n",
      "5982/5982 [==============================] - 2s 390us/step - loss: 0.0673 - accuracy: 0.9691 - val_loss: 1.3718 - val_accuracy: 0.7763\n",
      "Epoch 37/40\n",
      "5982/5982 [==============================] - 3s 457us/step - loss: 0.0688 - accuracy: 0.9702 - val_loss: 1.4282 - val_accuracy: 0.7717\n",
      "Epoch 38/40\n",
      "5982/5982 [==============================] - 3s 421us/step - loss: 0.0657 - accuracy: 0.9719 - val_loss: 1.4109 - val_accuracy: 0.7753\n",
      "Epoch 39/40\n",
      "5982/5982 [==============================] - 2s 410us/step - loss: 0.0659 - accuracy: 0.9687 - val_loss: 1.3983 - val_accuracy: 0.7807\n",
      "Epoch 40/40\n",
      "5982/5982 [==============================] - 3s 431us/step - loss: 0.0649 - accuracy: 0.9701 - val_loss: 1.4118 - val_accuracy: 0.7807\n"
     ]
    }
   ],
   "source": [
    "# we an build our NN considering the problem we are going to face\n",
    "\n",
    "# model definition \n",
    "from keras import models\n",
    "from keras import layers\n",
    "\n",
    "model = models.Sequential()\n",
    "model.add(layers.Dense(46, activation='relu', input_shape=(10000,))) # 10000 features == words index\n",
    "model.add(layers.Dense(46, activation='relu'))\n",
    "model.add(layers.Dense(46, activation='softmax'))\n",
    "          \n",
    "          \n",
    "from keras import optimizers\n",
    "          \n",
    "model.compile(optimizer='rmsprop',\n",
    "              loss='categorical_crossentropy', \n",
    "              metrics=['accuracy']) \n",
    "\n",
    "# use verbose=0 if you don't want to see keras text\n",
    "fitStatistics = model.fit(x_train, y_train, epochs=40, batch_size=512, validation_data=(x_val, y_val))"
   ]
  },
  {
   "cell_type": "code",
   "execution_count": 16,
   "metadata": {},
   "outputs": [
    {
     "name": "stdout",
     "output_type": "stream",
     "text": [
      "<class 'list'>   [2.9318822307038253, 1.7334504764401286, 1.2947023144855583, 1.0552887342837853, 0.8855099132809501, 0.7529360481784799, 0.6362973361141265, 0.5406131359375826, 0.45533455298999925, 0.3863555592304486, 0.32925825861735075, 0.2779455488390127, 0.23974875376918808, 0.2057980458270503, 0.17936878223177663, 0.16162578441235023, 0.14126060982286154, 0.1312103088445705, 0.11985554389433892, 0.1082261988338281, 0.10214473157921829, 0.09745384163628928, 0.09172493449045797, 0.08907292752371947, 0.08259848674646551, 0.08138280852119566, 0.08257964808918568, 0.07863627471570306, 0.07720503533356805, 0.07165381944087866, 0.07028793326611106, 0.06937906157508099, 0.06901103204078238, 0.07015566457099079, 0.06841694169924714, 0.0673395073018278, 0.0688243163310537, 0.06565461719028132, 0.06586951016134261, 0.06488559091421961]\n"
     ]
    },
    {
     "data": {
      "image/png": "[encoded data removed]",
      "text/plain": [
       "<Figure size 432x288 with 1 Axes>"
      ]
     },
     "metadata": {
      "needs_background": "light"
     },
     "output_type": "display_data"
    },
    {
     "name": "stdout",
     "output_type": "stream",
     "text": [
      "<class 'list'>   [0.51939154, 0.6664995, 0.7357071, 0.78351724, 0.81711805, 0.8411902, 0.86375797, 0.8854898, 0.90371114, 0.9202608, 0.9331327, 0.94232696, 0.94734204, 0.95503175, 0.95987964, 0.96038115, 0.96355736, 0.966232, 0.96790373, 0.97041124, 0.96807086, 0.9689067, 0.9674022, 0.9694082, 0.96873957, 0.9694082, 0.9692411, 0.9690739, 0.96873957, 0.97091275, 0.9695754, 0.9710799, 0.97091275, 0.97091275, 0.9715814, 0.9690739, 0.97024405, 0.9719157, 0.96873957, 0.9700769]\n"
     ]
    },
    {
     "data": {
      "image/png": "[encoded data removed]",
      "text/plain": [
       "<Figure size 432x288 with 1 Axes>"
      ]
     },
     "metadata": {
      "needs_background": "light"
     },
     "output_type": "display_data"
    }
   ],
   "source": [
    "# plot loss score for train and validation data to understand where the overfitting happens\n",
    "# overfitting happens where training loss and accuracy score are good while validation loss and accuracy degrade\n",
    "\n",
    "%matplotlib inline\n",
    "import matplotlib.pyplot as plt\n",
    "\n",
    "loss = fitStatistics.history['loss'] # == [epoch1 = n, epoch2 = m, ..., epoch20 = z]\n",
    "val_loss = fitStatistics.history['val_loss']\n",
    "\n",
    "epochs = range(1, len(loss) + 1)\n",
    "\n",
    "print(type(loss), ' ', loss)\n",
    "\n",
    "plt.plot(epochs, loss, 'bo', label='Training loss')\n",
    "plt.plot(epochs, val_loss, 'ro', label='Validation loss')\n",
    "plt.title('Training and validation loss')\n",
    "plt.xlabel('Epochs')\n",
    "plt.ylabel('Loss')\n",
    "plt.legend()\n",
    "plt.show()\n",
    "\n",
    "\n",
    "\n",
    "\n",
    "accuracy = fitStatistics.history['accuracy']\n",
    "val_accuracy = fitStatistics.history['val_accuracy']\n",
    "                                 \n",
    "print(type(accuracy), ' ',accuracy)\n",
    "                                 \n",
    "plt.plot(epochs, accuracy, 'bo', label='Training accuracy')\n",
    "plt.plot(epochs, val_accuracy, 'ro', label='Validation accuracy')\n",
    "plt.title('Training and validation accuracy')\n",
    "plt.xlabel('Epochs')\n",
    "plt.ylabel('Accuracy')\n",
    "plt.legend()\n",
    "plt.show()"
   ]
  },
  {
   "cell_type": "code",
   "execution_count": 20,
   "metadata": {},
   "outputs": [
    {
     "name": "stdout",
     "output_type": "stream",
     "text": [
      "2246/2246 [==============================] - 1s 244us/step\n",
      "[1.5071129365786844, 0.7724844217300415]\n"
     ]
    }
   ],
   "source": [
    "print(model.evaluate(x_test, y_test))"
   ]
  },
  {
   "cell_type": "code",
   "execution_count": 18,
   "metadata": {},
   "outputs": [],
   "source": [
    "# plot loss score for train and validation data to understand where the overfitting happens\n"
   ]
  },
  {
   "cell_type": "code",
   "execution_count": null,
   "metadata": {},
   "outputs": [],
   "source": []
  }
 ],
 "metadata": {
  "kernelspec": {
   "display_name": "Python 3",
   "language": "python",
   "name": "python3"
  },
  "language_info": {
   "codemirror_mode": {
    "name": "ipython",
    "version": 3
   },
   "file_extension": ".py",
   "mimetype": "text/x-python",
   "name": "python",
   "nbconvert_exporter": "python",
   "pygments_lexer": "ipython3",
   "version": "3.6.10"
  },
  "varInspector": {
   "cols": {
    "lenName": 16,
    "lenType": 16,
    "lenVar": 40
   },
   "kernels_config": {
    "python": {
     "delete_cmd_postfix": "",
     "delete_cmd_prefix": "del ",
     "library": "var_list.py",
     "varRefreshCmd": "print(var_dic_list())"
    },
    "r": {
     "delete_cmd_postfix": ") ",
     "delete_cmd_prefix": "rm(",
     "library": "var_list.r",
     "varRefreshCmd": "cat(var_dic_list()) "
    }
   },
   "types_to_exclude": [
    "module",
    "function",
    "builtin_function_or_method",
    "instance",
    "_Feature"
   ],
   "window_display": false
  }
 },
 "nbformat": 4,
 "nbformat_minor": 4
}
